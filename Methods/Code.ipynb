{
 "cells": [
  {
   "cell_type": "code",
   "execution_count": null,
   "metadata": {},
   "outputs": [],
   "source": [
    "# Signal decomposition module"
   ]
  },
  {
   "cell_type": "code",
   "execution_count": 28,
   "metadata": {},
   "outputs": [],
   "source": [
    "import numpy as np\n",
    "import pandas as pd\n",
    "\n",
    "# read SSA.xlsx\n",
    "file_path = \"SSA.xlsx\"\n",
    "SSA = pd.read_excel(file_path)\n",
    "\n",
    "# read HHT.xlsx\n",
    "file_path = \"HHT.xlsx\"\n",
    "HHT = pd.read_excel(file_path)\n",
    "\n",
    "# read EMD.xlsx\n",
    "file_path = \"EMD.xlsx\"\n",
    "EMD = pd.read_excel(file_path)\n",
    "\n",
    "# read HHT.xlsx\n",
    "file_path = \"STL.xlsx\"\n",
    "STL = pd.read_excel(file_path)"
   ]
  },
  {
   "cell_type": "code",
   "execution_count": 32,
   "metadata": {},
   "outputs": [
    {
     "name": "stdout",
     "output_type": "stream",
     "text": [
      "SSA Lowest Error for Forecast Type Long\n",
      "     Location    Disease       RMSE        MAE      MASE       sMAPE  \\\n",
      "35   HongKong     Dengue   8.574597   7.443783  1.949562   65.341828   \n",
      "26    Iquitos     Dengue  11.104029   8.635363  1.983800  110.756219   \n",
      "20  Ahmedabad     Dengue  11.319451   8.765273  1.686902  103.919517   \n",
      "38     Mexico  Influenza  43.262462  25.411300  1.676554   68.666078   \n",
      "44  Australia  Influenza  81.129843  53.055776  3.340549   93.182978   \n",
      "\n",
      "   Forecast Type  \n",
      "35          Long  \n",
      "26          Long  \n",
      "20          Long  \n",
      "38          Long  \n",
      "44          Long  \n",
      "\n",
      "\n",
      "HHT Lowest Error for Forecast Type Long\n",
      "    Location Disease      RMSE       MAE     MASE      sMAPE Forecast Type\n",
      "35  HongKong  Dengue  5.567871  4.351772  1.13975  45.201046          Long\n",
      "\n",
      "\n",
      "EMD Lowest Error for Forecast Type Long\n",
      "   Location Disease       RMSE       MAE      MASE       sMAPE Forecast Type\n",
      "26  Iquitos  Dengue  12.019937  8.396406  1.928904  148.993978          Long\n",
      "\n",
      "\n",
      "STL Lowest Error for Forecast Type Long\n",
      "    Location Disease       RMSE        MAE      MASE      sMAPE Forecast Type\n",
      "35  HongKong  Dengue  13.463536  10.894118  2.853221  99.807078          Long\n",
      "\n",
      "\n"
     ]
    }
   ],
   "source": [
    "# print lowest error for Forecast Type Long \n",
    "print(\"SSA Lowest Error for Forecast Type Long\")\n",
    "print(SSA[SSA[\"Forecast Type\"] == \"Long\"].sort_values(\"RMSE\").head(5))\n",
    "print(\"\\n\")\n",
    "print(\"HHT Lowest Error for Forecast Type Long\")\n",
    "print(HHT[HHT[\"Forecast Type\"] == \"Long\"].sort_values(\"RMSE\").head(1))\n",
    "print(\"\\n\")\n",
    "print(\"EMD Lowest Error for Forecast Type Long\")\n",
    "print(EMD[EMD[\"Forecast Type\"] == \"Long\"].sort_values(\"RMSE\").head(1))\n",
    "print(\"\\n\")\n",
    "print(\"STL Lowest Error for Forecast Type Long\")\n",
    "print(STL[STL[\"Forecast Type\"] == \"Long\"].sort_values(\"RMSE\").head(1))\n",
    "print(\"\\n\")\n"
   ]
  },
  {
   "cell_type": "code",
   "execution_count": 22,
   "metadata": {},
   "outputs": [
    {
     "name": "stdout",
     "output_type": "stream",
     "text": [
      "Columns in shortSSA: Index(['Location', 'Disease', 'SSA_RMSE', 'SSA_MAE', 'SSA_MASE', 'SSA_sMAPE',\n",
      "       'Forecast Type'],\n",
      "      dtype='object')\n",
      "Columns in shortHHT: Index(['Location', 'Disease', 'HHT_RMSE', 'HHT_MAE', 'HHT_MASE', 'HHT_sMAPE',\n",
      "       'Forecast Type'],\n",
      "      dtype='object')\n",
      "Columns in shortEMD: Index(['Location', 'Disease', 'EMD_RMSE', 'EMD_MAE', 'EMD_MASE', 'EMD_sMAPE',\n",
      "       'Forecast Type'],\n",
      "      dtype='object')\n",
      "Columns in shortSTL: Index(['Location', 'Disease', 'STL_RMSE', 'STL_MAE', 'STL_MASE', 'STL_sMAPE',\n",
      "       'Forecast Type'],\n",
      "      dtype='object')\n"
     ]
    }
   ],
   "source": [
    "print(\"Columns in shortSSA:\", shortSSA.columns)\n",
    "print(\"Columns in shortHHT:\", shortHHT.columns)\n",
    "print(\"Columns in shortEMD:\", shortEMD.columns)\n",
    "print(\"Columns in shortSTL:\", shortSTL.columns)\n"
   ]
  },
  {
   "cell_type": "code",
   "execution_count": 27,
   "metadata": {},
   "outputs": [],
   "source": [
    "# rename RMSE MAE MASE sMAPE in SSA as SSA_RMSE SSA_MAE SSA_MASE SSA_sMAPE\n",
    "SSA = SSA.rename(columns={\"RMSE\": \"SSA_RMSE\", \"MAE\": \"SSA_MAE\", \"MASE\": \"SSA_MASE\", \"sMAPE\": \"SSA_sMAPE\"})\n",
    "# rename RMSE MAE MASE sMAPE in HHT as HHT_RMSE HHT_MAE HHT_MASE HHT_sMAPE\n",
    "HHT = HHT.rename(columns={\"RMSE\": \"HHT_RMSE\", \"MAE\": \"HHT_MAE\", \"MASE\": \"HHT_MASE\", \"sMAPE\": \"HHT_sMAPE\"})\n",
    "# rename RMSE MAE MASE sMAPE in EMD as EMD_RMSE EMD_MAE EMD_MASE EMD_sMAPE\n",
    "EMD = EMD.rename(columns={\"RMSE\": \"EMD_RMSE\", \"MAE\": \"EMD_MAE\", \"MASE\": \"EMD_MASE\", \"sMAPE\": \"EMD_sMAPE\"})\n",
    "# rename RMSE MAE MASE sMAPE in STL as STL_RMSE STL_MAE STL_MASE STL_sMAPE\n",
    "STL = STL.rename(columns={\"RMSE\": \"STL_RMSE\", \"MAE\": \"STL_MAE\", \"MASE\": \"STL_MASE\", \"sMAPE\": \"STL_sMAPE\"})\n",
    "\n",
    "# Rename Forecast Type in SSA as SSA Forecast Type\n",
    "SSA = SSA.rename(columns={\"Forecast Type\": \"SSA Forecast Type\"})\n",
    "# Rename Forecast Type in HHT as HHT Forecast Type\n",
    "HHT = HHT.rename(columns={\"Forecast Type\": \"HHT Forecast Type\"})\n",
    "# Rename Forecast Type in EMD as EMD Forecast Type\n",
    "EMD = EMD.rename(columns={\"Forecast Type\": \"EMD Forecast Type\"})\n",
    "# Rename Forecast Type in STL as STL Forecast Type\n",
    "STL = STL.rename(columns={\"Forecast Type\": \"STL Forecast Type\"})\n",
    "\n",
    "\n",
    "\n",
    "shortSSA = SSA[SSA[\"SSA Forecast Type\"] == \"Medium\"]\n",
    "shortHHT = HHT[HHT[\"HHT Forecast Type\"] == \"Medium\"]\n",
    "shortEMD = EMD[EMD[\"EMD Forecast Type\"] == \"Medium\"]\n",
    "shortSTL = STL[STL[\"STL Forecast Type\"] == \"Medium\"]\n",
    "\n",
    "\n",
    "# Make a df with rows of Location and Disease is the same in each of the 4 files\n",
    "# This is the common data\n",
    "common = pd.merge(shortSSA, shortHHT, on=[\"Location\", \"Disease\"])\n",
    "common = pd.merge(common, shortEMD, on=[\"Location\", \"Disease\"])\n",
    "common = pd.merge(common, shortSTL, on=[\"Location\", \"Disease\"])\n",
    "\n",
    "# save the common data to a file\n",
    "file_path = \"Medium.xlsx\"\n",
    "common.to_excel(file_path, index=False)"
   ]
  },
  {
   "cell_type": "code",
   "execution_count": 25,
   "metadata": {},
   "outputs": [],
   "source": []
  },
  {
   "cell_type": "code",
   "execution_count": 9,
   "metadata": {},
   "outputs": [],
   "source": [
    "# save the dataframe to a new excel file\n",
    "combined.to_excel('all_methods.xlsx', index=False)\n"
   ]
  },
  {
   "cell_type": "code",
   "execution_count": null,
   "metadata": {},
   "outputs": [],
   "source": []
  }
 ],
 "metadata": {
  "kernelspec": {
   "display_name": "Python 3",
   "language": "python",
   "name": "python3"
  },
  "language_info": {
   "codemirror_mode": {
    "name": "ipython",
    "version": 3
   },
   "file_extension": ".py",
   "mimetype": "text/x-python",
   "name": "python",
   "nbconvert_exporter": "python",
   "pygments_lexer": "ipython3",
   "version": "3.11.8"
  }
 },
 "nbformat": 4,
 "nbformat_minor": 2
}
